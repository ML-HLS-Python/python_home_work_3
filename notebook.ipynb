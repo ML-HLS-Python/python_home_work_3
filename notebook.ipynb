{
 "cells": [
  {
   "cell_type": "code",
   "execution_count": 214,
   "outputs": [
    {
     "name": "stdout",
     "output_type": "stream",
     "text": [
      "Requirement already satisfied: requests in d:\\python\\python 3.7.0\\lib\\site-packages (2.28.1)\n",
      "Requirement already satisfied: urllib3<1.27,>=1.21.1 in d:\\python\\python 3.7.0\\lib\\site-packages (from requests) (1.26.13)\n",
      "Requirement already satisfied: idna<4,>=2.5 in d:\\python\\python 3.7.0\\lib\\site-packages (from requests) (3.4)\n",
      "Requirement already satisfied: certifi>=2017.4.17 in d:\\python\\python 3.7.0\\lib\\site-packages (from requests) (2022.9.24)\n",
      "Requirement already satisfied: charset-normalizer<3,>=2 in d:\\python\\python 3.7.0\\lib\\site-packages (from requests) (2.1.1)\n"
     ]
    },
    {
     "name": "stderr",
     "output_type": "stream",
     "text": [
      "\n",
      "[notice] A new release of pip available: 22.3 -> 22.3.1\n",
      "[notice] To update, run: d:\\python\\python 3.7.0\\python.exe -m pip install --upgrade pip\n"
     ]
    },
    {
     "name": "stdout",
     "output_type": "stream",
     "text": [
      "Collecting BeautifulSoup\n",
      "  Using cached BeautifulSoup-3.2.2.tar.gz (32 kB)\n",
      "  Preparing metadata (setup.py): started\n",
      "  Preparing metadata (setup.py): finished with status 'error'\n"
     ]
    },
    {
     "name": "stderr",
     "output_type": "stream",
     "text": [
      "  error: subprocess-exited-with-error\n",
      "  \n",
      "  python setup.py egg_info did not run successfully.\n",
      "  exit code: 1\n",
      "  \n",
      "  [7 lines of output]\n",
      "  Traceback (most recent call last):\n",
      "    File \"<string>\", line 36, in <module>\n",
      "    File \"<pip-setuptools-caller>\", line 34, in <module>\n",
      "    File \"C:\\Users\\Zeroxin\\AppData\\Local\\Temp\\pip-install-94vpbb9l\\beautifulsoup_2a7bbc9130db4ac6b828275d74d591c1\\setup.py\", line 3\n",
      "      \"You're trying to run a very old release of Beautiful Soup under Python 3. This will not work.\"<>\"Please use Beautiful Soup 4, available through the pip package 'beautifulsoup4'.\"\n",
      "                                                                                                      ^\n",
      "  SyntaxError: invalid syntax\n",
      "  [end of output]\n",
      "  \n",
      "  note: This error originates from a subprocess, and is likely not a problem with pip.\n",
      "error: metadata-generation-failed\n",
      "\n",
      "Encountered error while generating package metadata.\n",
      "\n",
      "See above for output.\n",
      "\n",
      "note: This is an issue with the package mentioned above, not pip.\n",
      "hint: See above for details.\n",
      "\n",
      "[notice] A new release of pip available: 22.3 -> 22.3.1\n",
      "[notice] To update, run: d:\\python\\python 3.7.0\\python.exe -m pip install --upgrade pip\n"
     ]
    },
    {
     "name": "stdout",
     "output_type": "stream",
     "text": [
      "Requirement already satisfied: pandas in d:\\python\\python 3.7.0\\lib\\site-packages (1.1.5)\n",
      "Requirement already satisfied: numpy>=1.15.4 in d:\\python\\python 3.7.0\\lib\\site-packages (from pandas) (1.21.6)\n",
      "Requirement already satisfied: pytz>=2017.2 in d:\\python\\python 3.7.0\\lib\\site-packages (from pandas) (2022.4)\n",
      "Requirement already satisfied: python-dateutil>=2.7.3 in d:\\python\\python 3.7.0\\lib\\site-packages (from pandas) (2.8.2)\n",
      "Requirement already satisfied: six>=1.5 in d:\\python\\python 3.7.0\\lib\\site-packages (from python-dateutil>=2.7.3->pandas) (1.16.0)\n"
     ]
    },
    {
     "name": "stderr",
     "output_type": "stream",
     "text": [
      "\n",
      "[notice] A new release of pip available: 22.3 -> 22.3.1\n",
      "[notice] To update, run: d:\\python\\python 3.7.0\\python.exe -m pip install --upgrade pip\n"
     ]
    }
   ],
   "source": [
    "!pip install requests\n",
    "!pip install BeautifulSoup\n",
    "!pip install pandas"
   ],
   "metadata": {
    "collapsed": false
   }
  },
  {
   "cell_type": "code",
   "execution_count": 215,
   "outputs": [],
   "source": [
    "#imports\n",
    "\n",
    "import requests\n",
    "from bs4 import BeautifulSoup\n",
    "import pandas as pd"
   ],
   "metadata": {
    "collapsed": false
   }
  },
  {
   "cell_type": "code",
   "execution_count": 216,
   "outputs": [],
   "source": [
    "url = 'http://quotes.toscrape.com/'"
   ],
   "metadata": {
    "collapsed": false
   }
  },
  {
   "cell_type": "code",
   "execution_count": 217,
   "outputs": [],
   "source": [
    "def GetPageContent(pageNumber: int):\n",
    "    '''Возвращает содержимое html схемы на определенной странице'''\n",
    "    return requests.get(f'{url}/page/{pageNumber}/')\n",
    "\n",
    "\n",
    "def CreateHTMLParser(resp):\n",
    "    return BeautifulSoup(resp.content, 'html.parser')\n",
    "\n",
    "\n",
    "def GetAuthorPage(authorPageName: str):\n",
    "    return requests.get(f'{url}{authorPageName}')\n",
    "\n",
    "\n",
    "def GetQuotesPageByTagAndNumPage(tagName: str, pageNumber: int):\n",
    "    return requests.get(f'{url}/tag/{tagName}/page/{pageNumber}/')"
   ],
   "metadata": {
    "collapsed": false
   }
  },
  {
   "cell_type": "code",
   "execution_count": 218,
   "outputs": [],
   "source": [
    "def GetTopTenTags(baseTree: BeautifulSoup):\n",
    "    '''Собирает топ 10 тэгов на сайте http://quotes.toscrape.com/'''\n",
    "    topTenTagsBlock = baseTree.find('div', {\n",
    "        'class': 'col-md-4 tags-box'})  #получение целого блока со всеми тэгами в необработанном виде\n",
    "    topTenTagsBlocks = topTenTagsBlock.find_all('a', {\n",
    "        'class': 'tag'})  #получение списка самих тэгов в необработанном виде. они обозначенны как ссылки.\n",
    "\n",
    "    topTenTags = []  #список названий тэгов\n",
    "\n",
    "    for tag in topTenTagsBlocks:\n",
    "        topTenTags.append(tag.text)\n",
    "\n",
    "    return topTenTags\n",
    "\n",
    "\n",
    "def GetQuotesCountByTag(tagName: str):\n",
    "    pageNum = 1\n",
    "    tagResponse = GetQuotesPageByTagAndNumPage(tagName, pageNum)\n",
    "\n",
    "    quotesCount = 0\n",
    "\n",
    "    while True: #обхожу страницы пока там не будет пусто (статус кода 404 там нет)\n",
    "        treeTag = CreateHTMLParser(tagResponse)\n",
    "        currentPageQuotesCount = len(GetQuotesSchemas(treeTag))\n",
    "\n",
    "        if (currentPageQuotesCount == 0):\n",
    "            break\n",
    "\n",
    "        quotesCount += currentPageQuotesCount\n",
    "        pageNum += 1\n",
    "        tagResponse = GetQuotesPageByTagAndNumPage(tagName, pageNum)\n",
    "\n",
    "    return quotesCount"
   ],
   "metadata": {
    "collapsed": false
   }
  },
  {
   "cell_type": "code",
   "execution_count": 219,
   "outputs": [],
   "source": [
    "def CreateQuoteDictionary(quoteTree: BeautifulSoup):\n",
    "    quoteData = {}\n",
    "\n",
    "    quoteData['Text'] = GetQuoteTextSchema(quoteTree).text.strip()\n",
    "    quoteData['Author'] = GetQuoteAuthorName(quoteTree)\n",
    "    quoteData['Tags'] = [x.text.strip() for x in\n",
    "                         quoteTree.find('div', {'class': 'tags'}).find_all('a', {'class': 'tag'})]\n",
    "\n",
    "    return quoteData"
   ],
   "metadata": {
    "collapsed": false
   }
  },
  {
   "cell_type": "code",
   "execution_count": 220,
   "outputs": [],
   "source": [
    "def GetQuotesSchemas(baseTree: BeautifulSoup):\n",
    "    return baseTree.find_all('div', {'class': 'quote'})\n",
    "\n",
    "\n",
    "def GetQuoteTextSchema(quoteTree: BeautifulSoup):\n",
    "    return quoteTree.find('span', {'class': 'text'})\n",
    "\n",
    "\n",
    "def GetQuoteAuthorSchema(quoteTree: BeautifulSoup):\n",
    "    return quoteTree.find('span', {'class': ''})\n",
    "\n",
    "\n",
    "def GetQuoteAuthorName(quoteTree: BeautifulSoup):\n",
    "    return GetQuoteAuthorSchema(quoteTree).find('small', {'class': 'author'}).text.strip()\n",
    "\n",
    "\n",
    "def GetQuoteAuthorHomePage(quoteTree: BeautifulSoup):\n",
    "    return GetQuoteAuthorSchema(quoteTree).find('a', href=True)['href']"
   ],
   "metadata": {
    "collapsed": false
   }
  },
  {
   "cell_type": "code",
   "execution_count": 221,
   "outputs": [],
   "source": [
    "def GetAllQuotes(baseTree: BeautifulSoup):\n",
    "    '''Возвращает все цитаты с информацией о тэгах, авторе и текстом цитаты'''\n",
    "    quotes = GetQuotesSchemas(baseTree)\n",
    "\n",
    "    quotesData = []\n",
    "\n",
    "    for quote in quotes:\n",
    "        quotesData.append(CreateQuoteDictionary(quote))\n",
    "\n",
    "    return quotesData"
   ],
   "metadata": {
    "collapsed": false
   }
  },
  {
   "cell_type": "code",
   "execution_count": 222,
   "outputs": [],
   "source": [
    "def GetAuthorsHref(baseTree: BeautifulSoup):\n",
    "    quotes = GetQuotesSchemas(baseTree)\n",
    "\n",
    "    authorsHrefs = []\n",
    "\n",
    "    for quote in quotes:\n",
    "        authorsHrefs.append(GetQuoteAuthorHomePage(quote))\n",
    "\n",
    "    return list(sorted(set(authorsHrefs)))"
   ],
   "metadata": {
    "collapsed": false
   }
  },
  {
   "cell_type": "code",
   "execution_count": 223,
   "outputs": [],
   "source": [
    "def GetAuthorsNames(baseTree: BeautifulSoup):\n",
    "    quotes = GetQuotesSchemas(baseTree)\n",
    "\n",
    "    authorsNames = []\n",
    "\n",
    "    for quote in quotes:\n",
    "        authorsNames.append(GetQuoteAuthorName(quote))\n",
    "\n",
    "    return list(sorted(set(authorsNames)))"
   ],
   "metadata": {
    "collapsed": false
   }
  },
  {
   "cell_type": "code",
   "execution_count": 224,
   "outputs": [],
   "source": [
    "def GetAuthorHomePageData(baseAuthorTree: BeautifulSoup):\n",
    "    authorDetails = baseAuthorTree.find('div', {'class': 'author-details'})\n",
    "\n",
    "    authorData = {}\n",
    "\n",
    "    authorData['Name'] = authorDetails.find('h3', {'class': 'author-title'}).contents[0].text.strip()\n",
    "    authorData['Born Date'] = authorDetails.find('span', {'class': 'author-born-date'}).text.strip()\n",
    "    authorData['Bord Location'] = authorDetails.find('span', {'class': 'author-born-location'}).text.strip()\n",
    "    authorData['Description'] = authorDetails.find('div', {'class': 'author-description'}).text.strip()\n",
    "\n",
    "    return authorData"
   ],
   "metadata": {
    "collapsed": false
   }
  },
  {
   "cell_type": "code",
   "execution_count": 225,
   "outputs": [],
   "source": [
    "def GetTopTenAuthors():\n",
    "    quotes = []\n",
    "    for page in range(1, 11):  #обход по циклу 10 страниц\n",
    "        localResponse = GetPageContent(page)\n",
    "        baseTree = CreateHTMLParser(localResponse)\n",
    "        quotes += GetQuotesSchemas(baseTree)\n",
    "\n",
    "    authorsList = []\n",
    "    authors = []\n",
    "\n",
    "    for quote in quotes:\n",
    "        authors.append(GetQuoteAuthorName(quote))\n",
    "\n",
    "    authorsSet = set(authors)\n",
    "\n",
    "    for item in authorsSet:\n",
    "        authData = {}\n",
    "        authData['Author Name'] = item\n",
    "        authData['Quotes Count'] = authors.count(item)\n",
    "        authorsList.append(authData)\n",
    "\n",
    "    return sorted(authorsList, key=lambda d: d['Quotes Count'], reverse=True)[:10]"
   ],
   "metadata": {
    "collapsed": false
   }
  },
  {
   "cell_type": "markdown",
   "source": [
    "Сбор цитат, находящихся на 1-10 страницах"
   ],
   "metadata": {
    "collapsed": false
   }
  },
  {
   "cell_type": "code",
   "execution_count": 226,
   "outputs": [],
   "source": [
    "tenPagesQuotes = []\n",
    "authorsHomePages = []\n",
    "\n",
    "for page in range(1, 11):  #обход по циклу 10 страниц\n",
    "    response = GetPageContent(page)\n",
    "    tree = CreateHTMLParser(response)\n",
    "    tenPagesQuotes += GetAllQuotes(tree)\n",
    "    authorsHomePages.append(GetQuoteAuthorHomePage(tree))"
   ],
   "metadata": {
    "collapsed": false
   }
  },
  {
   "cell_type": "markdown",
   "source": [
    "Вывод цитат, находящихся на 1-10 страницах"
   ],
   "metadata": {
    "collapsed": false
   }
  },
  {
   "cell_type": "code",
   "execution_count": 227,
   "outputs": [
    {
     "data": {
      "text/plain": "                                                 Text              Author  \\\n0   “The world as we have created it is a process ...     Albert Einstein   \n1   “It is our choices, Harry, that show what we t...        J.K. Rowling   \n2   “There are only two ways to live your life. On...     Albert Einstein   \n3   “The person, be it gentleman or lady, who has ...         Jane Austen   \n4   “Imperfection is beauty, madness is genius and...      Marilyn Monroe   \n..                                                ...                 ...   \n95  “You never really understand a person until yo...          Harper Lee   \n96  “You have to write the book that wants to be w...   Madeleine L'Engle   \n97  “Never tell the truth to people who are not wo...          Mark Twain   \n98        “A person's a person, no matter how small.”           Dr. Seuss   \n99  “... a mind needs books as a sword needs a whe...  George R.R. Martin   \n\n                                                 Tags  \n0            [change, deep-thoughts, thinking, world]  \n1                                [abilities, choices]  \n2      [inspirational, life, live, miracle, miracles]  \n3                  [aliteracy, books, classic, humor]  \n4                        [be-yourself, inspirational]  \n..                                                ...  \n95                              [better-life-empathy]  \n96  [books, children, difficult, grown-ups, write,...  \n97                                            [truth]  \n98                                    [inspirational]  \n99                                      [books, mind]  \n\n[100 rows x 3 columns]",
      "text/html": "<div>\n<style scoped>\n    .dataframe tbody tr th:only-of-type {\n        vertical-align: middle;\n    }\n\n    .dataframe tbody tr th {\n        vertical-align: top;\n    }\n\n    .dataframe thead th {\n        text-align: right;\n    }\n</style>\n<table border=\"1\" class=\"dataframe\">\n  <thead>\n    <tr style=\"text-align: right;\">\n      <th></th>\n      <th>Text</th>\n      <th>Author</th>\n      <th>Tags</th>\n    </tr>\n  </thead>\n  <tbody>\n    <tr>\n      <th>0</th>\n      <td>“The world as we have created it is a process ...</td>\n      <td>Albert Einstein</td>\n      <td>[change, deep-thoughts, thinking, world]</td>\n    </tr>\n    <tr>\n      <th>1</th>\n      <td>“It is our choices, Harry, that show what we t...</td>\n      <td>J.K. Rowling</td>\n      <td>[abilities, choices]</td>\n    </tr>\n    <tr>\n      <th>2</th>\n      <td>“There are only two ways to live your life. On...</td>\n      <td>Albert Einstein</td>\n      <td>[inspirational, life, live, miracle, miracles]</td>\n    </tr>\n    <tr>\n      <th>3</th>\n      <td>“The person, be it gentleman or lady, who has ...</td>\n      <td>Jane Austen</td>\n      <td>[aliteracy, books, classic, humor]</td>\n    </tr>\n    <tr>\n      <th>4</th>\n      <td>“Imperfection is beauty, madness is genius and...</td>\n      <td>Marilyn Monroe</td>\n      <td>[be-yourself, inspirational]</td>\n    </tr>\n    <tr>\n      <th>...</th>\n      <td>...</td>\n      <td>...</td>\n      <td>...</td>\n    </tr>\n    <tr>\n      <th>95</th>\n      <td>“You never really understand a person until yo...</td>\n      <td>Harper Lee</td>\n      <td>[better-life-empathy]</td>\n    </tr>\n    <tr>\n      <th>96</th>\n      <td>“You have to write the book that wants to be w...</td>\n      <td>Madeleine L'Engle</td>\n      <td>[books, children, difficult, grown-ups, write,...</td>\n    </tr>\n    <tr>\n      <th>97</th>\n      <td>“Never tell the truth to people who are not wo...</td>\n      <td>Mark Twain</td>\n      <td>[truth]</td>\n    </tr>\n    <tr>\n      <th>98</th>\n      <td>“A person's a person, no matter how small.”</td>\n      <td>Dr. Seuss</td>\n      <td>[inspirational]</td>\n    </tr>\n    <tr>\n      <th>99</th>\n      <td>“... a mind needs books as a sword needs a whe...</td>\n      <td>George R.R. Martin</td>\n      <td>[books, mind]</td>\n    </tr>\n  </tbody>\n</table>\n<p>100 rows × 3 columns</p>\n</div>"
     },
     "execution_count": 227,
     "metadata": {},
     "output_type": "execute_result"
    }
   ],
   "source": [
    "pd.DataFrame.from_dict(tenPagesQuotes)"
   ],
   "metadata": {
    "collapsed": false
   }
  },
  {
   "cell_type": "markdown",
   "source": [
    "Вся информация об авторах, найденных цитат на 1-10 страницах"
   ],
   "metadata": {
    "collapsed": false
   }
  },
  {
   "cell_type": "code",
   "execution_count": 228,
   "outputs": [
    {
     "data": {
      "text/plain": "                 Name           Born Date  \\\n0     Albert Einstein      March 14, 1879   \n1      Marilyn Monroe       June 01, 1926   \n2        Pablo Neruda       July 12, 1904   \n3           Dr. Seuss      March 02, 1904   \n4  George R.R. Martin  September 20, 1948   \n5         Jane Austen   December 16, 1775   \n6    Charles Bukowski     August 16, 1920   \n7     Alfred Tennyson     August 06, 1809   \n8     Albert Einstein      March 14, 1879   \n9        J.K. Rowling       July 31, 1965   \n\n                                       Bord Location  \\\n0                                    in Ulm, Germany   \n1                               in The United States   \n2                                   in Parral, Chile   \n3              in Springfield, MA, The United States   \n4          in Bayonne, New Jersey, The United States   \n5  in Steventon Rectory, Hampshire, The United Ki...   \n6                              in Andernach, Germany   \n7      in Somersby, Lincolnshire, The United Kingdom   \n8                                    in Ulm, Germany   \n9  in Yate, South Gloucestershire, England, The U...   \n\n                                         Description  \n0  In 1879, Albert Einstein was born in Ulm, Germ...  \n1  Marilyn Monroe (born Norma Jeane Mortenson; Ju...  \n2  Pablo Neruda was the pen name and, later, lega...  \n3  Theodor Seuss Geisel was born 2 March 1904 in ...  \n4  George R. R. Martin was born September 20, 194...  \n5  Jane Austen was an English novelist whose work...  \n6  Henry Charles Bukowski (born as Heinrich Karl ...  \n7  Alfred Tennyson was born in Somersby, Lincolns...  \n8  In 1879, Albert Einstein was born in Ulm, Germ...  \n9  See also: Robert GalbraithAlthough she writes ...  ",
      "text/html": "<div>\n<style scoped>\n    .dataframe tbody tr th:only-of-type {\n        vertical-align: middle;\n    }\n\n    .dataframe tbody tr th {\n        vertical-align: top;\n    }\n\n    .dataframe thead th {\n        text-align: right;\n    }\n</style>\n<table border=\"1\" class=\"dataframe\">\n  <thead>\n    <tr style=\"text-align: right;\">\n      <th></th>\n      <th>Name</th>\n      <th>Born Date</th>\n      <th>Bord Location</th>\n      <th>Description</th>\n    </tr>\n  </thead>\n  <tbody>\n    <tr>\n      <th>0</th>\n      <td>Albert Einstein</td>\n      <td>March 14, 1879</td>\n      <td>in Ulm, Germany</td>\n      <td>In 1879, Albert Einstein was born in Ulm, Germ...</td>\n    </tr>\n    <tr>\n      <th>1</th>\n      <td>Marilyn Monroe</td>\n      <td>June 01, 1926</td>\n      <td>in The United States</td>\n      <td>Marilyn Monroe (born Norma Jeane Mortenson; Ju...</td>\n    </tr>\n    <tr>\n      <th>2</th>\n      <td>Pablo Neruda</td>\n      <td>July 12, 1904</td>\n      <td>in Parral, Chile</td>\n      <td>Pablo Neruda was the pen name and, later, lega...</td>\n    </tr>\n    <tr>\n      <th>3</th>\n      <td>Dr. Seuss</td>\n      <td>March 02, 1904</td>\n      <td>in Springfield, MA, The United States</td>\n      <td>Theodor Seuss Geisel was born 2 March 1904 in ...</td>\n    </tr>\n    <tr>\n      <th>4</th>\n      <td>George R.R. Martin</td>\n      <td>September 20, 1948</td>\n      <td>in Bayonne, New Jersey, The United States</td>\n      <td>George R. R. Martin was born September 20, 194...</td>\n    </tr>\n    <tr>\n      <th>5</th>\n      <td>Jane Austen</td>\n      <td>December 16, 1775</td>\n      <td>in Steventon Rectory, Hampshire, The United Ki...</td>\n      <td>Jane Austen was an English novelist whose work...</td>\n    </tr>\n    <tr>\n      <th>6</th>\n      <td>Charles Bukowski</td>\n      <td>August 16, 1920</td>\n      <td>in Andernach, Germany</td>\n      <td>Henry Charles Bukowski (born as Heinrich Karl ...</td>\n    </tr>\n    <tr>\n      <th>7</th>\n      <td>Alfred Tennyson</td>\n      <td>August 06, 1809</td>\n      <td>in Somersby, Lincolnshire, The United Kingdom</td>\n      <td>Alfred Tennyson was born in Somersby, Lincolns...</td>\n    </tr>\n    <tr>\n      <th>8</th>\n      <td>Albert Einstein</td>\n      <td>March 14, 1879</td>\n      <td>in Ulm, Germany</td>\n      <td>In 1879, Albert Einstein was born in Ulm, Germ...</td>\n    </tr>\n    <tr>\n      <th>9</th>\n      <td>J.K. Rowling</td>\n      <td>July 31, 1965</td>\n      <td>in Yate, South Gloucestershire, England, The U...</td>\n      <td>See also: Robert GalbraithAlthough she writes ...</td>\n    </tr>\n  </tbody>\n</table>\n</div>"
     },
     "execution_count": 228,
     "metadata": {},
     "output_type": "execute_result"
    }
   ],
   "source": [
    "authorsData = []\n",
    "\n",
    "for authorHomePage in authorsHomePages:\n",
    "    authorResponse = GetAuthorPage(authorHomePage)\n",
    "    authorTree = CreateHTMLParser(authorResponse)\n",
    "    authorsData.append(GetAuthorHomePageData(authorTree))\n",
    "\n",
    "pd.DataFrame.from_dict(authorsData)"
   ],
   "metadata": {
    "collapsed": false
   }
  },
  {
   "cell_type": "markdown",
   "source": [
    "Вывод топ 10 авторов. (Пришлось придумывать велосипед, т. к. на сайте нет страницы с топами - такое только с тэгами есть)"
   ],
   "metadata": {
    "collapsed": false
   }
  },
  {
   "cell_type": "code",
   "execution_count": 229,
   "outputs": [
    {
     "data": {
      "text/plain": "        Author Name  Quotes Count\n0   Albert Einstein            10\n1      J.K. Rowling             9\n2    Marilyn Monroe             7\n3        Mark Twain             6\n4         Dr. Seuss             6\n5        C.S. Lewis             5\n6       Jane Austen             5\n7        Bob Marley             3\n8     Mother Teresa             2\n9  Ernest Hemingway             2",
      "text/html": "<div>\n<style scoped>\n    .dataframe tbody tr th:only-of-type {\n        vertical-align: middle;\n    }\n\n    .dataframe tbody tr th {\n        vertical-align: top;\n    }\n\n    .dataframe thead th {\n        text-align: right;\n    }\n</style>\n<table border=\"1\" class=\"dataframe\">\n  <thead>\n    <tr style=\"text-align: right;\">\n      <th></th>\n      <th>Author Name</th>\n      <th>Quotes Count</th>\n    </tr>\n  </thead>\n  <tbody>\n    <tr>\n      <th>0</th>\n      <td>Albert Einstein</td>\n      <td>10</td>\n    </tr>\n    <tr>\n      <th>1</th>\n      <td>J.K. Rowling</td>\n      <td>9</td>\n    </tr>\n    <tr>\n      <th>2</th>\n      <td>Marilyn Monroe</td>\n      <td>7</td>\n    </tr>\n    <tr>\n      <th>3</th>\n      <td>Mark Twain</td>\n      <td>6</td>\n    </tr>\n    <tr>\n      <th>4</th>\n      <td>Dr. Seuss</td>\n      <td>6</td>\n    </tr>\n    <tr>\n      <th>5</th>\n      <td>C.S. Lewis</td>\n      <td>5</td>\n    </tr>\n    <tr>\n      <th>6</th>\n      <td>Jane Austen</td>\n      <td>5</td>\n    </tr>\n    <tr>\n      <th>7</th>\n      <td>Bob Marley</td>\n      <td>3</td>\n    </tr>\n    <tr>\n      <th>8</th>\n      <td>Mother Teresa</td>\n      <td>2</td>\n    </tr>\n    <tr>\n      <th>9</th>\n      <td>Ernest Hemingway</td>\n      <td>2</td>\n    </tr>\n  </tbody>\n</table>\n</div>"
     },
     "execution_count": 229,
     "metadata": {},
     "output_type": "execute_result"
    }
   ],
   "source": [
    "pd.DataFrame.from_dict(GetTopTenAuthors())"
   ],
   "metadata": {
    "collapsed": false
   }
  },
  {
   "cell_type": "markdown",
   "source": [
    "Вывод топ 10 тэгов без количества цитат"
   ],
   "metadata": {
    "collapsed": false
   }
  },
  {
   "cell_type": "code",
   "execution_count": 230,
   "outputs": [
    {
     "data": {
      "text/plain": "['love',\n 'inspirational',\n 'life',\n 'humor',\n 'books',\n 'reading',\n 'friendship',\n 'friends',\n 'truth',\n 'simile']"
     },
     "execution_count": 230,
     "metadata": {},
     "output_type": "execute_result"
    }
   ],
   "source": [
    "tags = GetTopTenTags(tree)\n",
    "tags"
   ],
   "metadata": {
    "collapsed": false
   }
  },
  {
   "cell_type": "code",
   "execution_count": 231,
   "outputs": [],
   "source": [
    "tagsData = []\n",
    "\n",
    "for tag in tags:\n",
    "    tagData = {}\n",
    "    tagData['Tag Name'] = tag\n",
    "    tagData['Quotes Count'] = GetQuotesCountByTag(tag)\n",
    "    tagsData.append(tagData)"
   ],
   "metadata": {
    "collapsed": false
   }
  },
  {
   "cell_type": "markdown",
   "source": [
    "Вывод топ 10 тэгов с количеством цитат"
   ],
   "metadata": {
    "collapsed": false
   }
  },
  {
   "cell_type": "code",
   "execution_count": 232,
   "outputs": [
    {
     "data": {
      "text/plain": "        Tag Name  Quotes Count\n0           love            14\n1  inspirational            13\n2           life            13\n3          humor            12\n4          books            11\n5        reading             7\n6     friendship             5\n7        friends             4\n8          truth             4\n9         simile             3",
      "text/html": "<div>\n<style scoped>\n    .dataframe tbody tr th:only-of-type {\n        vertical-align: middle;\n    }\n\n    .dataframe tbody tr th {\n        vertical-align: top;\n    }\n\n    .dataframe thead th {\n        text-align: right;\n    }\n</style>\n<table border=\"1\" class=\"dataframe\">\n  <thead>\n    <tr style=\"text-align: right;\">\n      <th></th>\n      <th>Tag Name</th>\n      <th>Quotes Count</th>\n    </tr>\n  </thead>\n  <tbody>\n    <tr>\n      <th>0</th>\n      <td>love</td>\n      <td>14</td>\n    </tr>\n    <tr>\n      <th>1</th>\n      <td>inspirational</td>\n      <td>13</td>\n    </tr>\n    <tr>\n      <th>2</th>\n      <td>life</td>\n      <td>13</td>\n    </tr>\n    <tr>\n      <th>3</th>\n      <td>humor</td>\n      <td>12</td>\n    </tr>\n    <tr>\n      <th>4</th>\n      <td>books</td>\n      <td>11</td>\n    </tr>\n    <tr>\n      <th>5</th>\n      <td>reading</td>\n      <td>7</td>\n    </tr>\n    <tr>\n      <th>6</th>\n      <td>friendship</td>\n      <td>5</td>\n    </tr>\n    <tr>\n      <th>7</th>\n      <td>friends</td>\n      <td>4</td>\n    </tr>\n    <tr>\n      <th>8</th>\n      <td>truth</td>\n      <td>4</td>\n    </tr>\n    <tr>\n      <th>9</th>\n      <td>simile</td>\n      <td>3</td>\n    </tr>\n  </tbody>\n</table>\n</div>"
     },
     "execution_count": 232,
     "metadata": {},
     "output_type": "execute_result"
    }
   ],
   "source": [
    "pd.DataFrame.from_dict(tagsData)"
   ],
   "metadata": {
    "collapsed": false
   }
  }
 ],
 "metadata": {
  "kernelspec": {
   "display_name": "Python 3",
   "language": "python",
   "name": "python3"
  },
  "language_info": {
   "codemirror_mode": {
    "name": "ipython",
    "version": 2
   },
   "file_extension": ".py",
   "mimetype": "text/x-python",
   "name": "python",
   "nbconvert_exporter": "python",
   "pygments_lexer": "ipython2",
   "version": "2.7.6"
  }
 },
 "nbformat": 4,
 "nbformat_minor": 0
}
